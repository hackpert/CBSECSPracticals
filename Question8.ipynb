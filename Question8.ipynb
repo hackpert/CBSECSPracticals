{
 "metadata": {
  "name": "",
  "signature": "sha256:e39c7aa3992ac34e8ccaab129431f9d04e44d8d3041a050bae12bb671a3e2838"
 },
 "nbformat": 3,
 "nbformat_minor": 0,
 "worksheets": [
  {
   "cells": [
    {
     "cell_type": "markdown",
     "metadata": {},
     "source": [
      "####Define a class student in python with given specifications:\n",
      "    Instance variable\t:\tName\n",
      "                            Roll_Number\n",
      "    Methods\t\t: \tGetdata() \u2013 to input roll no. and name\n",
      "                :\tPrintdata() \u2013 to diplay roll no. and name\n",
      "####Define another  class marks which is derived from student class\n",
      "    Instance variable\t:\tMarks in 5 subjects\n",
      "    Methods\t\t:\tInputdata() \u2013 To call Getdata and input the marks of 5 Subjects.\n",
      "    Outdata()-To call Printdata in order to display the marks in 5 subjects\n",
      "###Implement the above program in python"
     ]
    },
    {
     "cell_type": "code",
     "collapsed": false,
     "input": [
      "class student(object):\n",
      "    '''Class to define a student object with the following attributes:\n",
      "            -Name\n",
      "            -Roll_Number\n",
      "        Methods:\n",
      "            -Getdata(): To input data\n",
      "            -Printdata(): To display data'''\n",
      "    def __init__(self):\n",
      "        self.Name = ''\n",
      "        self.Roll_Number = None\n",
      "    def Getdata(self):\n",
      "        self.Name = raw_input('Enter Name: ')\n",
      "        self.Roll_Number = int(raw_input('Enter roll no: '))\n",
      "    def Printdata(self):\n",
      "        print 'Name: '+self.Name + '\\n' + 'Roll No: ' + self.Roll_Number\n",
      "class marks(student):\n",
      "    '''Class to store marks of a student in 5 subjects'''\n",
      "    def __init__(self):\n",
      "        super(marks,self).__init__()\n",
      "        self.marks = []\n",
      "    def Inputdata(self):\n",
      "        self.Getdata()\n",
      "        for i in xrange(5):\n",
      "            self.marks.append(int(raw_input('Enter marks for %d subject: '%i)))\n",
      "    def Outdata(self):\n",
      "        self.Printdata()\n",
      "        for i in xrange(5):\n",
      "            print 'Marks in %d subject: '%i + str(self.marks[i])"
     ],
     "language": "python",
     "metadata": {},
     "outputs": [],
     "prompt_number": 4
    },
    {
     "cell_type": "code",
     "collapsed": false,
     "input": [
      "m = marks()\n",
      "m.Inputdata()"
     ],
     "language": "python",
     "metadata": {},
     "outputs": [
      {
       "name": "stdout",
       "output_type": "stream",
       "stream": "stdout",
       "text": [
        "Enter Name: 1\n"
       ]
      },
      {
       "name": "stdout",
       "output_type": "stream",
       "stream": "stdout",
       "text": [
        "Enter roll no: 2\n"
       ]
      },
      {
       "name": "stdout",
       "output_type": "stream",
       "stream": "stdout",
       "text": [
        "Enter marks for 0 subject3\n"
       ]
      },
      {
       "name": "stdout",
       "output_type": "stream",
       "stream": "stdout",
       "text": [
        "Enter marks for 1 subject4\n"
       ]
      },
      {
       "name": "stdout",
       "output_type": "stream",
       "stream": "stdout",
       "text": [
        "Enter marks for 2 subject5\n"
       ]
      },
      {
       "name": "stdout",
       "output_type": "stream",
       "stream": "stdout",
       "text": [
        "Enter marks for 3 subject6\n"
       ]
      },
      {
       "name": "stdout",
       "output_type": "stream",
       "stream": "stdout",
       "text": [
        "Enter marks for 4 subject7\n"
       ]
      }
     ],
     "prompt_number": 2
    },
    {
     "cell_type": "code",
     "collapsed": false,
     "input": [],
     "language": "python",
     "metadata": {},
     "outputs": []
    }
   ],
   "metadata": {}
  }
 ]
}