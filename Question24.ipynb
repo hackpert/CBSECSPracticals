{
 "metadata": {
  "name": "",
  "signature": "sha256:cb7f2b710ac91850b94630036ff5864c5bdeb8ceb238cbf421c5f3da48cdb45e"
 },
 "nbformat": 3,
 "nbformat_minor": 0,
 "worksheets": [
  {
   "cells": [
    {
     "cell_type": "markdown",
     "metadata": {},
     "source": [
      "Write a class to implement queues in python.\n"
     ]
    },
    {
     "cell_type": "code",
     "collapsed": false,
     "input": [
      "class Queue(object):\n",
      "    '''Class to implement queue data structure statically'''\n",
      "    def __init__(self,size):\n",
      "        self.q = [0 for i in xrange(size)]\n",
      "        self.front = -1\n",
      "        self.rear = -1\n",
      "        self.size = size\n",
      "    def enqueue(self,elem):\n",
      "        if self.rear<self.size-1:\n",
      "            self.rear+=1\n",
      "            self.q[self.rear] = elem\n",
      "        else:\n",
      "            print 'Overflow'\n",
      "        if self.front == -1:\n",
      "            self.front+=1\n",
      "    def dequeue(self):\n",
      "        if self.front>-1:\n",
      "            self.front+=1\n",
      "            t = self.q[self.front-1]\n",
      "            if self.front>self.rear:\n",
      "                self.front = -1\n",
      "                self.rear = -1\n",
      "            return t\n",
      "        else:\n",
      "            print 'Underflow'        \n",
      "    def empty(self):\n",
      "        return not bool(self.rear - self.front)\n",
      "    "
     ],
     "language": "python",
     "metadata": {},
     "outputs": [],
     "prompt_number": 80
    },
    {
     "cell_type": "code",
     "collapsed": false,
     "input": [],
     "language": "python",
     "metadata": {},
     "outputs": []
    }
   ],
   "metadata": {}
  }
 ]
}