{
 "metadata": {
  "name": "",
  "signature": "sha256:e2c7baa10676c6cecb05957428bf6a54d5531582e4d14c8a5edbb7c74473966a"
 },
 "nbformat": 3,
 "nbformat_minor": 0,
 "worksheets": [
  {
   "cells": [
    {
     "cell_type": "markdown",
     "metadata": {},
     "source": [
      "#### Write a function to create a text file containing data\n",
      "        Neither apple nor pine are in pineapple. Boxing rings are square. Writers write but fingers don\u2019t fing. Overlook and oversee are opposites. A house can burn up as it burns down. \n",
      "    An alarm goes off by going on.\n",
      "        -Append back the entire file content using read() or readlines() and display on screen.\n",
      "        -Append more text of your choice in the file and display the content of file with line numbers prefixed to line.\n",
      "        -Display first line from 10th character onwards.\n",
      "        -Display last line of file.\n",
      "        -Read and display a line from the file. Ask user to input the line number to be read.\n"
     ]
    },
    {
     "cell_type": "code",
     "collapsed": false,
     "input": [
      "def readfile(filename):\n",
      "    f = open(file,'r+')\n",
      "    f.write('Neither apple nor pine are in pineapple. Boxing rings are square. Writers write but fingers don\u2019t fing. Overlook and oversee are opposites. A house can burn up as it burns down. \\nAn alarm goes off by going on.')\n",
      "    f.seek(0)\n",
      "    content = f.readlines()\n",
      "    f.writelines(content)\n",
      "    for i in content:\n",
      "        print i\n",
      "    f.write('This is text of my choice')\n",
      "    f.seek(0)\n",
      "    content = f.readlines()\n",
      "    for i in xrange(len(content)):\n",
      "        print str(i) + content[i] #Print content of file with line numbers\n",
      "    f.seek(10)\n",
      "    print f.read() #Print contents from 10th character onwards\n",
      "    print content[-1] #Print last line\n",
      "    linenumber = raw_input('Enter line number: ')\n",
      "    print content[linenumber]\n",
      "    f.close()"
     ],
     "language": "python",
     "metadata": {},
     "outputs": []
    },
    {
     "cell_type": "code",
     "collapsed": false,
     "input": [],
     "language": "python",
     "metadata": {},
     "outputs": []
    },
    {
     "cell_type": "code",
     "collapsed": false,
     "input": [],
     "language": "python",
     "metadata": {},
     "outputs": []
    }
   ],
   "metadata": {}
  }
 ]
}