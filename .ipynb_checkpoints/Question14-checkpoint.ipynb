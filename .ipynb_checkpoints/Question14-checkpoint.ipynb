{
 "metadata": {
  "name": "",
  "signature": "sha256:dd2b23b4728387f2227a9ab3cbcd0a8976dc9b2dfb5a1caaf9ae413117c5cafa"
 },
 "nbformat": 3,
 "nbformat_minor": 0,
 "worksheets": []
}