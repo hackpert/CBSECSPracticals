{
 "metadata": {
  "name": "",
  "signature": "sha256:bf6e0bb45d53de7ed1cd8bcefdf3894dc7cc93655d8061e005a1351a9599a6f7"
 },
 "nbformat": 3,
 "nbformat_minor": 0,
 "worksheets": [
  {
   "cells": [
    {
     "cell_type": "markdown",
     "metadata": {},
     "source": [
      "Write a class sorting that provides the user a chance to choose the way to sort a list from bubble sorting, selection sort, insertion sort."
     ]
    },
    {
     "cell_type": "code",
     "collapsed": false,
     "input": [
      "class sorting(object):\n",
      "    '''Class to implement the following list sorting methods:-\n",
      "        -bubbleSort(list)\n",
      "        -insertionSort(list)\n",
      "        -selectionSort(list)\n",
      "    '''\n",
      "    def __init__(self,l):\n",
      "        self.unsorted = l \n",
      "        self.sorted = []\n",
      "    def bubbleSort(self,l = self.unsorted):\n",
      "        for i in xrange(len(l)):\n",
      "            for j in xrange(1,len(l)-i):\n",
      "                if l[j-1]>l[j]:\n",
      "                    l[j],l[j-1] = l[j-1],l[j]\n",
      "        self.sorted = l\n",
      "    def insertionSort(self,l = self.unsorted):\n",
      "        for j in xrange(1,len(l)):\n",
      "            key = l[j]\n",
      "            i = j-1\n",
      "            while(i>-1 and l[i]>key):\n",
      "                l[i+1] = l[i]\n",
      "                i-=1\n",
      "            l[i+1] = key\n",
      "        self.sorted = l\n",
      "    def selectionSort(self,l = self.unsorted):\n",
      "        for i in xrange(len(l)):\n",
      "            k = i\n",
      "            for j in xrange(i,len(l)):\n",
      "                if l[j]<l[k]:\n",
      "                    k = j\n",
      "                l[k],l[i] = l[i],l[k]\n",
      "        self.sorted = l"
     ],
     "language": "python",
     "metadata": {},
     "outputs": []
    }
   ],
   "metadata": {}
  }
 ]
}