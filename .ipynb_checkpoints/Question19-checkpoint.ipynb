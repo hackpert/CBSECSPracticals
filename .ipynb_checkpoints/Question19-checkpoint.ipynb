{
 "metadata": {
  "name": "",
  "signature": "sha256:6cef660bfe4270b21ace6064d5bd6b77620b116283aeac94e238d6d8752022e4"
 },
 "nbformat": 3,
 "nbformat_minor": 0,
 "worksheets": [
  {
   "cells": [
    {
     "cell_type": "markdown",
     "metadata": {},
     "source": [
      "Write a class to implement stack  in python (dynamic). "
     ]
    },
    {
     "cell_type": "code",
     "collapsed": false,
     "input": [
      "class stack(object):\n",
      "    '''Class to implement stack data structure with the following methods:\n",
      "        -push(element)\n",
      "        -pop()'''\n",
      "    def __init__(self):\n",
      "        self.s = []\n",
      "    def push(self,elem):\n",
      "        self.s.append(elem)\n",
      "    def pop():\n",
      "        p =  self.s[-1]\n",
      "        del self.s[-1]\n",
      "        return p"
     ],
     "language": "python",
     "metadata": {},
     "outputs": []
    }
   ],
   "metadata": {}
  }
 ]
}