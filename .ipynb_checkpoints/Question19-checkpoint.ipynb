{
 "metadata": {
  "name": "",
  "signature": "sha256:fb1a4f9027148bb2fcb16846378de195799c87dfec58431fbe4fb3c8e5e7b156"
 },
 "nbformat": 3,
 "nbformat_minor": 0,
 "worksheets": [
  {
   "cells": [
    {
     "cell_type": "markdown",
     "metadata": {},
     "source": [
      "Write a class to implement stack  in python (dynamic). "
     ]
    },
    {
     "cell_type": "code",
     "collapsed": false,
     "input": [
      "class stack(object):\n",
      "    '''Class to implement stack data structure with the following methods:\n",
      "        -push(element)\n",
      "        -pop()'''\n",
      "    def __init__(self):\n",
      "        self.s = []\n",
      "    def push(self,elem):\n",
      "        self.s.append(elem)\n",
      "    def pop(self):\n",
      "        p =  self.s[-1]\n",
      "        del self.s[-1]\n",
      "        return p"
     ],
     "language": "python",
     "metadata": {},
     "outputs": [],
     "prompt_number": 1
    },
    {
     "cell_type": "code",
     "collapsed": false,
     "input": [],
     "language": "python",
     "metadata": {},
     "outputs": []
    }
   ],
   "metadata": {}
  }
 ]
}