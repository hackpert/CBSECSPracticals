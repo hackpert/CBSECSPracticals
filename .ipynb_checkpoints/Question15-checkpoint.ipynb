{
 "metadata": {
  "name": "",
  "signature": "sha256:ecd0b2b461f1be5d992db7bd38cdd779e51e1d0af227d4433244e223facb574c"
 },
 "nbformat": 3,
 "nbformat_minor": 0,
 "worksheets": [
  {
   "cells": [
    {
     "cell_type": "markdown",
     "metadata": {},
     "source": [
      "Write a class iteminfo to store information of different items like Code, name, price, quantity. Write a program to accept data from user and store it in file. Also provide user the facility of searching and updating data file based on code.\n"
     ]
    },
    {
     "cell_type": "code",
     "collapsed": false,
     "input": [
      "import pickle\n",
      "import os\n",
      "class item_info(object):\n",
      "    '''Class to store information of an item.\n",
      "        Attributes:\n",
      "            -code\n",
      "            -name\n",
      "            -price\n",
      "            -quantity\n",
      "            -filename\n",
      "        Methods'''\n",
      "    def __init__(self):\n",
      "        self.code = ''\n",
      "        self.name = ''\n",
      "        self.price = 0\n",
      "        self.quantity = 0\n",
      "        self.filename = ''\n",
      "    def enterData(self):\n",
      "        self.code = raw_input('Enter code: ')\n",
      "        self.name = raw_input('Enter item name: ')\n",
      "        self.price = int(raw_input('Enter item price: '))\n",
      "        self.quantity = int(raw_input('Enter quantity: '))\n",
      "        self.filename = raw_input('Enter file name')\n",
      "        self.saveFile(self.filename)\n",
      "    def saveFile(self,filename):\n",
      "        f = open(filename,'wb')\n",
      "        pickle.dump({'code':self.code,\n",
      "                     'name':self.name,\n",
      "                     'price':self.price,\n",
      "                     'qty':self.quantity},f)\n",
      "        f.close()\n",
      "    def search(self,code,filename):\n",
      "        f = open(filename,'rb+')\n",
      "        t = open('temp.b','wb')\n",
      "        code = raw_input('Enter item code: ')\n",
      "        while True:\n",
      "            try:\n",
      "                a = pickle.load(f)\n",
      "                if a['code']==code:\n",
      "                    print 'Found'\n",
      "                    for i in a.keys():\n",
      "                        print i,a[i]\n",
      "                    choice = raw_input('Do you want to edit this data? Y/N')\n",
      "                    if choice.lower()=='y':\n",
      "                        for i in a.keys():\n",
      "                            a[i] = input(i + ': ')\n",
      "                        pickle.dump(a,t)\n",
      "                else:\n",
      "                    pickle.dump(a,t)\n",
      "            except EOFError:\n",
      "                print 'Done'\n",
      "                f.close()\n",
      "                t.close()\n",
      "                os.remove(filename)\n",
      "                os.rename('temp.b',filename)\n",
      "                "
     ],
     "language": "python",
     "metadata": {},
     "outputs": [],
     "prompt_number": 12
    },
    {
     "cell_type": "code",
     "collapsed": false,
     "input": [],
     "language": "python",
     "metadata": {},
     "outputs": []
    }
   ],
   "metadata": {}
  }
 ]
}