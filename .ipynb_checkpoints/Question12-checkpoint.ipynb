{
 "metadata": {
  "name": "",
  "signature": "sha256:13973ca7473f192bfb06753c974640c743777cf7063e3c88444c96579f94047a"
 },
 "nbformat": 3,
 "nbformat_minor": 0,
 "worksheets": [
  {
   "cells": [
    {
     "cell_type": "markdown",
     "metadata": {},
     "source": [
      "Write a class to create a binary file for storing the information of a student in the form of a dictionary and displays the content of the file created. "
     ]
    },
    {
     "cell_type": "code",
     "collapsed": false,
     "input": [
      "import pickle\n",
      "class student(object):\n",
      "    '''Class to store information of a student and save it in a binary (pickled) file in the form of a dictionary.\n",
      "        Attributes: \n",
      "            - info (dictionary)\n",
      "            - filename (string)\n",
      "        Methods:\n",
      "            -enterData()\n",
      "            -saveFile(filename)\n",
      "            -displayFile()\n",
      "    '''\n",
      "    def __init__(self):\n",
      "        self.info = {}\n",
      "        self.filename = ''\n",
      "    def enterData(self):\n",
      "        self.info['name'] = raw_input('Enter Name: ')\n",
      "        self.info['rollno'] = int(raw_input('Enter Roll No: '))\n",
      "        self.info['admno'] = int(raw_input('Enter Admission No: '))\n",
      "        self.info['class'] = int(raw_input('Enter class: '))\n",
      "        self.info['grades'] = raw_input('Enter grades separated by space').split()\n",
      "        self.filename = raw_input('Enter filename: ')\n",
      "    def saveFile(self,filename = self.filename):\n",
      "        f = open(filename,'wb')\n",
      "        pickle.dump(self.info,f)\n",
      "        f.close()\n",
      "    def displayDile(self,filename = self.filename):\n",
      "        f = open(filename,'rb')\n",
      "        d = pickle.load(f)\n",
      "        for i in d.keys():\n",
      "            print i,d[i]\n",
      "        f.close()"
     ],
     "language": "python",
     "metadata": {},
     "outputs": []
    }
   ],
   "metadata": {}
  }
 ]
}