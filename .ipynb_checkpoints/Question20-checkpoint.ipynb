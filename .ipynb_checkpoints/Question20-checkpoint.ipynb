{
 "metadata": {
  "name": "",
  "signature": "sha256:6345206e8496e730831b5fd2c4c65be8746f88ac6863e6e2aec941ce665fd1ab"
 },
 "nbformat": 3,
 "nbformat_minor": 0,
 "worksheets": [
  {
   "cells": [
    {
     "cell_type": "markdown",
     "metadata": {},
     "source": [
      "Write a class to implement stack statically.\n"
     ]
    },
    {
     "cell_type": "code",
     "collapsed": false,
     "input": [
      "class UnderflowError(Exception):\n",
      "    def __init__(self):\n",
      "        pass\n",
      "class Stack(object):\n",
      "    '''Class to implement stack statically'''\n",
      "    def __init__(self,size):\n",
      "        self.s = [0 for i in xrange(size)]\n",
      "        self.size = size\n",
      "        self.top = -1\n",
      "    def push(self,elem):\n",
      "        if self.top<(self.size-1):\n",
      "            self.top+=1\n",
      "            self.s[self.top] = elem\n",
      "        else:\n",
      "            raise OverflowError\n",
      "    def pop(self):\n",
      "        if self.top>-1:\n",
      "            self.top-=1\n",
      "            return self.s[self.top+1]\n",
      "        else:\n",
      "            raise UnderflowError\n",
      "    def empty(self):\n",
      "        if self.top==-1:\n",
      "            return True\n",
      "        else:\n",
      "            return False"
     ],
     "language": "python",
     "metadata": {},
     "outputs": [],
     "prompt_number": 28
    },
    {
     "cell_type": "code",
     "collapsed": false,
     "input": [],
     "language": "python",
     "metadata": {},
     "outputs": []
    }
   ],
   "metadata": {}
  }
 ]
}