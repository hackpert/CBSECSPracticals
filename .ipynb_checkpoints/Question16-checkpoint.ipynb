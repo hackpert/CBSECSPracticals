{
 "metadata": {
  "name": "",
  "signature": "sha256:c644fc8075dbb26ed522c285ca332213563e3630c99419758cf978963e060c50"
 },
 "nbformat": 3,
 "nbformat_minor": 0,
 "worksheets": [
  {
   "cells": [
    {
     "cell_type": "markdown",
     "metadata": {},
     "source": [
      "Write a function called replace() that takes pattern string, replacement string and 2 files as argument. The function should read the first file and write the content into second file (creating it, if necessary). If the pattern string appears anywhere in first file, it should be replaced by replacement string in second file."
     ]
    },
    {
     "cell_type": "code",
     "collapsed": false,
     "input": [
      "def replace(pattern,replacement,file1,file2):\n",
      "    '''Function to replace pattern string in file1 and save replaced strings in file2'''\n",
      "    f1 = open(file1,'r')\n",
      "    f2 = open(file2,'w')\n",
      "    content = f1.read()\n",
      "    content = content.replace(pattern,replacement)\n",
      "    f2.write(content)"
     ],
     "language": "python",
     "metadata": {},
     "outputs": []
    },
    {
     "cell_type": "code",
     "collapsed": false,
     "input": [],
     "language": "python",
     "metadata": {},
     "outputs": []
    }
   ],
   "metadata": {}
  }
 ]
}