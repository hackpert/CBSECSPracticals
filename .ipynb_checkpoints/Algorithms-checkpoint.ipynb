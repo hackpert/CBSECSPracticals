{
 "metadata": {
  "name": "",
  "signature": "sha256:7cea8d39af10933c6963d912161d1af551568590db4500736ef0987046e2fb40"
 },
 "nbformat": 3,
 "nbformat_minor": 0,
 "worksheets": [
  {
   "cells": [
    {
     "cell_type": "heading",
     "level": 1,
     "metadata": {},
     "source": [
      "Algorithms"
     ]
    },
    {
     "cell_type": "heading",
     "level": 3,
     "metadata": {},
     "source": [
      "Binary Search"
     ]
    },
    {
     "cell_type": "code",
     "collapsed": false,
     "input": [
      "def binarySearch(l,elem):\n",
      "    low = 0\n",
      "    high = len(l)-1\n",
      "    while low<high:\n",
      "        mid = (low + high)/2\n",
      "        if l[mid] == elem:\n",
      "            return mid\n",
      "        elif l[mid]>elem:\n",
      "            high = mid-1\n",
      "        elif l[mid]<elem:\n",
      "            low = mid+1\n",
      "    else:\n",
      "        return 'not found'"
     ],
     "language": "python",
     "metadata": {},
     "outputs": [],
     "prompt_number": 3
    },
    {
     "cell_type": "code",
     "collapsed": false,
     "input": [
      "binarySearch([1,2,3,4],9)"
     ],
     "language": "python",
     "metadata": {},
     "outputs": [
      {
       "metadata": {},
       "output_type": "pyout",
       "prompt_number": 5,
       "text": [
        "'not found'"
       ]
      }
     ],
     "prompt_number": 5
    },
    {
     "cell_type": "heading",
     "level": 3,
     "metadata": {},
     "source": [
      "Bubble Sort"
     ]
    },
    {
     "cell_type": "code",
     "collapsed": false,
     "input": [
      "def bubbleSort(l):\n",
      "    for i in xrange(len(l)):\n",
      "        for j in xrange(1,len(l)-i):\n",
      "            if l[j-1]>l[j]:\n",
      "                l[j],l[j-1] = l[j-1],l[j]\n",
      "            \n",
      "    print l\n",
      "        "
     ],
     "language": "python",
     "metadata": {},
     "outputs": [],
     "prompt_number": 3
    },
    {
     "cell_type": "code",
     "collapsed": false,
     "input": [
      "bubbleSort([1004,2,5,4,31])"
     ],
     "language": "python",
     "metadata": {},
     "outputs": [
      {
       "output_type": "stream",
       "stream": "stdout",
       "text": [
        "[2, 4, 5, 31, 1004]\n"
       ]
      }
     ],
     "prompt_number": 4
    },
    {
     "cell_type": "heading",
     "level": 3,
     "metadata": {},
     "source": [
      "Selection Sort"
     ]
    },
    {
     "cell_type": "code",
     "collapsed": false,
     "input": [
      "def selectionSort(l):\n",
      "    for i in xrange(len(l)):\n",
      "        k = i\n",
      "        for j in xrange(i,len(l)):\n",
      "            if l[j]<l[k]:\n",
      "                k = j\n",
      "            print l\n",
      "        l[i],l[k] = l[k],l[i]\n",
      "    return l\n"
     ],
     "language": "python",
     "metadata": {},
     "outputs": [],
     "prompt_number": 19
    },
    {
     "cell_type": "code",
     "collapsed": false,
     "input": [
      "selectionSort([95,5,4,3,4,2,1])"
     ],
     "language": "python",
     "metadata": {},
     "outputs": [
      {
       "output_type": "stream",
       "stream": "stdout",
       "text": [
        "[95, 5, 4, 3, 4, 2, 1]\n",
        "[95, 5, 4, 3, 4, 2, 1]\n",
        "[95, 5, 4, 3, 4, 2, 1]\n",
        "[95, 5, 4, 3, 4, 2, 1]\n",
        "[95, 5, 4, 3, 4, 2, 1]\n",
        "[95, 5, 4, 3, 4, 2, 1]\n",
        "[95, 5, 4, 3, 4, 2, 1]\n",
        "[1, 5, 4, 3, 4, 2, 95]\n",
        "[1, 5, 4, 3, 4, 2, 95]\n",
        "[1, 5, 4, 3, 4, 2, 95]\n",
        "[1, 5, 4, 3, 4, 2, 95]\n",
        "[1, 5, 4, 3, 4, 2, 95]\n",
        "[1, 5, 4, 3, 4, 2, 95]\n",
        "[1, 2, 4, 3, 4, 5, 95]\n",
        "[1, 2, 4, 3, 4, 5, 95]\n",
        "[1, 2, 4, 3, 4, 5, 95]\n",
        "[1, 2, 4, 3, 4, 5, 95]\n",
        "[1, 2, 4, 3, 4, 5, 95]\n",
        "[1, 2, 3, 4, 4, 5, 95]\n",
        "[1, 2, 3, 4, 4, 5, 95]\n",
        "[1, 2, 3, 4, 4, 5, 95]\n",
        "[1, 2, 3, 4, 4, 5, 95]\n",
        "[1, 2, 3, 4, 4, 5, 95]\n",
        "[1, 2, 3, 4, 4, 5, 95]\n",
        "[1, 2, 3, 4, 4, 5, 95]\n",
        "[1, 2, 3, 4, 4, 5, 95]\n",
        "[1, 2, 3, 4, 4, 5, 95]\n",
        "[1, 2, 3, 4, 4, 5, 95]\n"
       ]
      },
      {
       "metadata": {},
       "output_type": "pyout",
       "prompt_number": 20,
       "text": [
        "[1, 2, 3, 4, 4, 5, 95]"
       ]
      }
     ],
     "prompt_number": 20
    },
    {
     "cell_type": "heading",
     "level": 3,
     "metadata": {},
     "source": [
      "Insertion Sort"
     ]
    },
    {
     "cell_type": "code",
     "collapsed": false,
     "input": [
      "def insertionSort(l):\n",
      "    for j in xrange(1,len(l)):\n",
      "        key = l[j]\n",
      "        i = j-1\n",
      "        while(i>-1 and l[i]>key):\n",
      "            l[i+1] = l[i]\n",
      "            i-=1\n",
      "        l[i+1] = key\n",
      "    return l"
     ],
     "language": "python",
     "metadata": {},
     "outputs": [],
     "prompt_number": 23
    },
    {
     "cell_type": "code",
     "collapsed": false,
     "input": [
      "insertionSort([1,2,34,4,99,33,22,11,1000004])"
     ],
     "language": "python",
     "metadata": {},
     "outputs": [
      {
       "metadata": {},
       "output_type": "pyout",
       "prompt_number": 45,
       "text": [
        "[1, 2, 4, 11, 22, 33, 34, 99, 1000004]"
       ]
      }
     ],
     "prompt_number": 45
    },
    {
     "cell_type": "code",
     "collapsed": false,
     "input": [
      "def selectionSort(l):\n",
      "    for i in xrange(len(l)):\n",
      "        k = i\n",
      "        for j in xrange(i,len(l)):\n",
      "            if l[j]<l[k]:\n",
      "                k = j\n",
      "            l[k],l[i] = l[i],l[k]\n",
      "    return l"
     ],
     "language": "python",
     "metadata": {},
     "outputs": [],
     "prompt_number": 35
    },
    {
     "cell_type": "code",
     "collapsed": false,
     "input": [
      "selectionSort([1,2,3,4,5,6,7,8,1,33,22])"
     ],
     "language": "python",
     "metadata": {},
     "outputs": [
      {
       "metadata": {},
       "output_type": "pyout",
       "prompt_number": 36,
       "text": [
        "[1, 1, 2, 3, 4, 5, 6, 7, 8, 22, 33]"
       ]
      }
     ],
     "prompt_number": 36
    },
    {
     "cell_type": "code",
     "collapsed": false,
     "input": [
      "def insertionSort(l):\n",
      "    for i in xrange(1,len(l)):\n",
      "        key = l[i]\n",
      "        j = i-1\n",
      "        while j>-1 and l[j]>key:\n",
      "            l[j+1] = l[j]\n",
      "            j-=1\n",
      "        l[j+1] = key\n",
      "    return l"
     ],
     "language": "python",
     "metadata": {},
     "outputs": [],
     "prompt_number": 44
    },
    {
     "cell_type": "code",
     "collapsed": false,
     "input": [],
     "language": "python",
     "metadata": {},
     "outputs": []
    }
   ],
   "metadata": {}
  }
 ]
}