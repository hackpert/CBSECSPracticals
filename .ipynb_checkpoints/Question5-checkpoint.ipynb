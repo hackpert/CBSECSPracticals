{
 "metadata": {
  "name": "",
  "signature": "sha256:98679d229f9c3ec0b0e1c9952d0e0335de926f484e1592a8f3a60b10765f911f"
 },
 "nbformat": 3,
 "nbformat_minor": 0,
 "worksheets": [
  {
   "cells": [
    {
     "cell_type": "markdown",
     "metadata": {},
     "source": [
      "####Define a class ITEMINFO in python with following description:\n",
      "    -ICode (item code)\n",
      "    -Item (item name)\n",
      "    -Price (Price of each item)\n",
      "    -Qty (quantity in stock)\n",
      "    -Discount (discount percentage on the item)\n",
      "    -Net Price (final price)\n",
      "####Methods supposed to be defined\n",
      "\n",
      "    --init\u2014() : A construction to assign the value 0 for ICode, Price, Qy, Netprice and discount and null for item respectively.\n",
      "    buy() : to allow user to enter value for ICode, Item, Price, Qty and call the function find discount() to calculate the discount and the net price i.e. (Price*Qty-Discount)\n",
      "    find_discount() : to calculate discount as per following rule:\n",
      "        if Qty<=10, discount is 0\n",
      "        if Qty is between 11-20, discount is 15%\n",
      "        if Qty>=20, discount is 20%\n",
      "    show_all() : to allow user to view the content of all the data members.\n"
     ]
    },
    {
     "cell_type": "code",
     "collapsed": false,
     "input": [
      "class ITEMINFO(object):\n",
      "    def __init__(self):\n",
      "        self.item = ''\n",
      "        self.icode = 0\n",
      "        self.price = 0\n",
      "        self.qty = 0\n",
      "        self.discount = 0\n",
      "        self.netprice = 0\n",
      "    def buy(self):\n",
      "        self.item = raw_input('Enter item name: ')\n",
      "        self.icode = int(raw_input('Enter item code: '))\n",
      "        self.price = int(raw_input('Enter price: '))\n",
      "        self.qty = int(raw_input('Enter quantity: '))\n",
      "        find_discount()\n",
      "    def find_discount(self):\n",
      "        if self.qty<=10:\n",
      "            self.discount = 0.0\n",
      "        elif 10<self.qty<20:\n",
      "            self.discount = 0.15\n",
      "        elif self.qty>20:\n",
      "            self.discount = 0.2\n",
      "        netprice = (self.price * self.qty) - (self.price * self.qty * self.discount)\n",
      "    def show_all(self):\n",
      "        print self.item + '\\n' + 'Item code: ' + str(self.icode) + '\\n' + 'Price: ' + str(self.price) + '\\n' + 'Quantity: ' + str(self.qty) + '\\n' + 'Net Price: ' + self.netprice"
     ],
     "language": "python",
     "metadata": {},
     "outputs": []
    }
   ],
   "metadata": {}
  }
 ]
}