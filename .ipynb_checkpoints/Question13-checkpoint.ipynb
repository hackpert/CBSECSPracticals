{
 "metadata": {
  "name": "",
  "signature": "sha256:f5061158be67cabcdcf4ea0de32bdfd87a934487db245e642a2ab54855bb5e56"
 },
 "nbformat": 3,
 "nbformat_minor": 0,
 "worksheets": [
  {
   "cells": [
    {
     "cell_type": "markdown",
     "metadata": {},
     "source": [
      "####Write a program to delete the content provided by user from the binary file. The file is very large and can\u2019t fit in computer\u2019s memory.\n"
     ]
    },
    {
     "cell_type": "code",
     "collapsed": false,
     "input": [],
     "language": "python",
     "metadata": {},
     "outputs": []
    }
   ],
   "metadata": {}
  }
 ]
}