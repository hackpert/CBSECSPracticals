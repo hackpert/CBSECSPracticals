{
 "metadata": {
  "name": "",
  "signature": "sha256:5dbf882fd63dd3e204e9b4f3fe2f73ab8a5303e43bbd469878c3598443f80985"
 },
 "nbformat": 3,
 "nbformat_minor": 0,
 "worksheets": [
  {
   "cells": [
    {
     "cell_type": "markdown",
     "metadata": {},
     "source": [
      "Create a class Person to store personal information for a person. Ensure that while accepting the data incorrect entry is properly handled.\n"
     ]
    },
    {
     "cell_type": "code",
     "collapsed": false,
     "input": [
      "class Person(object):\n",
      "    def __init__(self):\n",
      "        self.name = ''\n",
      "        self.dobd = None\n",
      "        self.dobm = None\n",
      "        self.doby = None\n",
      "        self.school = ''\n",
      "    def enterData(self):\n",
      "        while True:\n",
      "            try:\n",
      "                self.name = raw_input('Enter name: ')\n",
      "                if type(self.name)!=type('a'):\n",
      "                    raise ValueError\n",
      "                break\n",
      "            except ValueError:\n",
      "                print 'Invalid Entry'\n",
      "        while True:\n",
      "            print 'Enter Date of Birth'\n",
      "            try:\n",
      "                self.dobd = int(raw_input('Enter Day: '))\n",
      "                self.dobm = int(raw_input('Enter Month: '))\n",
      "                self.doby = int(raw_input('Enter Year: '))\n",
      "                break\n",
      "            except ValueError:\n",
      "                print 'Invalid Entry'\n",
      "        while True:\n",
      "            try:\n",
      "                self.name = raw_input('Enter name of school: ')\n",
      "                if type(self.name)!=type('a'):\n",
      "                    raise ValueError\n",
      "                break\n",
      "            except ValueError:\n",
      "                print 'Invalid Entry'"
     ],
     "language": "python",
     "metadata": {},
     "outputs": []
    },
    {
     "cell_type": "code",
     "collapsed": false,
     "input": [],
     "language": "python",
     "metadata": {},
     "outputs": []
    }
   ],
   "metadata": {}
  }
 ]
}