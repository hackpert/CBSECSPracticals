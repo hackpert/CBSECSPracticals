{
 "metadata": {
  "name": "",
  "signature": "sha256:57569e27b4814779a303a9283befb61ad4c7c40b4247f0f6bff0d247ee8115b3"
 },
 "nbformat": 3,
 "nbformat_minor": 0,
 "worksheets": [
  {
   "cells": [
    {
     "cell_type": "markdown",
     "metadata": {},
     "source": [
      "##Define a class furniture with the given specification:\n",
      "    Instance variables :\t\n",
      "        -Type\n",
      "        -Model\n",
      "    Methods:\t\n",
      "        -get_Type()- To return in instance variable Type\n",
      "        -get _Model() \u2013 To return instance variable Model and Type\n",
      "##Define a class sofa\n",
      "    Instance variables:\t \n",
      "        -No_of_seats\n",
      "        -Cost\n",
      "    Methods: \t\n",
      "        -get_Seats() : To retorn instance variable No_of_seats\n",
      "        -get_Cost() : To return instance variable cost\n",
      "        -show() : To print instance variable No_of_Seats and cost\n",
      "\tFurniture class is inherited by class Sofa\n"
     ]
    },
    {
     "cell_type": "code",
     "collapsed": false,
     "input": [
      "class furniture(object):\n",
      "    '''Class to create a furniture object defined by the following attributes:\n",
      "            Type: Type of furniture\n",
      "            Model: Model of furniture\n",
      "        Methods:-\n",
      "            get_Type(): Returns furniture type of instance\n",
      "            get_Model(): Returns model of instance'''\n",
      "    def __init__(self,type,model):\n",
      "        self.type = type\n",
      "        self.model = model\n",
      "    def get_Type(self):\n",
      "        return self.type\n",
      "    def get_Model(self):\n",
      "        return self.model\n",
      "class sofa(furniture):\n",
      "    '''Class to create a sofa object which inherits furniture, and is defined by:\n",
      "            No_of_seats\n",
      "            Cost\n",
      "        Methods:-\n",
      "            get_Seats()\n",
      "            get_Cost()\n",
      "            show() : Prints information about number of seats and cost'''\n",
      "    def __init__(self,seats,cost):\n",
      "        super(sofa,self).__init__('sofa','modelA')\n",
      "        self.No_of_seats = seats\n",
      "        self.Cost = cost\n",
      "    def get_Seats(self):\n",
      "        return self.No_of_seats\n",
      "    def get_Cost(self):\n",
      "        return self.Cost\n",
      "    def show(self):\n",
      "        print 'No. of seats: ' + str(self.get_Seats()) + '\\n' + 'Cost: ' str(self.get_Cost())\n",
      "    "
     ],
     "language": "python",
     "metadata": {},
     "outputs": []
    }
   ],
   "metadata": {}
  }
 ]
}