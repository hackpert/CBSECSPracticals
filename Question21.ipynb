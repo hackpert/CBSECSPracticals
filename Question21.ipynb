{
 "metadata": {
  "name": "",
  "signature": "sha256:5bc2d6d50909f3e9e63e73ea95868ae09322f69f9fed464454cac9124d3e518e"
 },
 "nbformat": 3,
 "nbformat_minor": 0,
 "worksheets": [
  {
   "cells": [
    {
     "cell_type": "markdown",
     "metadata": {},
     "source": [
      "Write a function to implement String reversal in python using stack.\n"
     ]
    },
    {
     "cell_type": "code",
     "collapsed": false,
     "input": [
      "class stack(object):\n",
      "    '''Class to implement stack data structure with the following methods:\n",
      "        -push(element)\n",
      "        -pop()'''\n",
      "    def __init__(self):\n",
      "        self.s = []\n",
      "    def push(self,elem):\n",
      "        self.s.append(elem)\n",
      "    def pop(self):\n",
      "        p =  self.s[-1]\n",
      "        del self.s[-1]\n",
      "        return p\n",
      "def reverseString(string):\n",
      "    '''Function to reverse string using stack'''\n",
      "    s = stack()\n",
      "    for i in xrange(len(string)):\n",
      "        s.push(string[i])\n",
      "    f = ''\n",
      "    for i in xrange(len(string)):\n",
      "        f+=s.pop()\n",
      "    return f"
     ],
     "language": "python",
     "metadata": {},
     "outputs": [],
     "prompt_number": 9
    },
    {
     "cell_type": "code",
     "collapsed": false,
     "input": [],
     "language": "python",
     "metadata": {},
     "outputs": []
    }
   ],
   "metadata": {}
  }
 ]
}