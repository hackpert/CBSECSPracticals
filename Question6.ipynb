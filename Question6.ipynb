{
 "metadata": {
  "name": "",
  "signature": "sha256:6df0bf56c3bb7437a35526a227a71d733cefe8f3c8aedbfff4937a3ca2833f85"
 },
 "nbformat": 3,
 "nbformat_minor": 0,
 "worksheets": [
  {
   "cells": [
    {
     "cell_type": "markdown",
     "metadata": {},
     "source": [
      "####Write a program with following specifications:\n",
      "    -Program defines a class CIRCLE that stores radius of circle as instance member. It also maintain a list containing radii of all circles created so far. Class maintains the value of \u03c0.\n",
      "    -Class has methods for constructor, area, total circles to return no. of circle objects created.\n",
      "    -There should be doc string for each class.\n",
      "    -Output should be able to show total circles created so far as well as the details of latest circle created.\n",
      "    -Write a main function to implement the other methods of the class."
     ]
    },
    {
     "cell_type": "code",
     "collapsed": false,
     "input": [
      "class CIRCLE(object):\n",
      "    '''Class to implement a CIRCLE type object with the following attributes:\n",
      "            -radius\n",
      "        And the following methods:\n",
      "            -area(): Returns area of instance\n",
      "            -totalCircles(): Returns number of circles created'''\n",
      "    all = []\n",
      "    pi = 3.14159265358979323846264\n",
      "    def __init__(self,radius):\n",
      "        self.radius = radius\n",
      "        CIRCLE.all.append(radius)\n",
      "    def area(self):\n",
      "        return CIRCLE.pi * (self.radius)**2\n",
      "    def totalCircles(self):\n",
      "        return len(CIRCLE.all)"
     ],
     "language": "python",
     "metadata": {},
     "outputs": [],
     "prompt_number": 1
    },
    {
     "cell_type": "code",
     "collapsed": false,
     "input": [
      "def main():\n",
      "    clist = [CIRCLE(5) for i in xrange(10)] #Create 10 circles with radius 5\n",
      "    print clist[1].totalCircles()\n",
      "    print clist[0].area()"
     ],
     "language": "python",
     "metadata": {},
     "outputs": [],
     "prompt_number": 14
    },
    {
     "cell_type": "code",
     "collapsed": false,
     "input": [],
     "language": "python",
     "metadata": {},
     "outputs": []
    }
   ],
   "metadata": {}
  }
 ]
}