{
 "metadata": {
  "name": "",
  "signature": "sha256:5014a9ed61c293668160d606c4c592038e6295a1d8608bdb755b571d51922935"
 },
 "nbformat": 3,
 "nbformat_minor": 0,
 "worksheets": [
  {
   "cells": [
    {
     "cell_type": "markdown",
     "metadata": {},
     "source": [
      "Write a program to accept a date as day, month and year from user and raise appropriate error(s) if legal value(s) is not supplied. Display appropriate message till user inputs correct value(s)."
     ]
    },
    {
     "cell_type": "code",
     "collapsed": false,
     "input": [
      "def checkLeap(year):\n",
      "    if year%4 == 0 and year%100 != 0:\n",
      "        return True\n",
      "    elif year%100 == 0:\n",
      "        if year%400==0:\n",
      "            return True\n",
      "    return False\n",
      "\n",
      "def validateDate():\n",
      "    while True:\n",
      "        day = int(raw_input('Enter day: '))\n",
      "        if not 0<day<32:\n",
      "            print'Invalid Day Entered. Please try again'\n",
      "        else:\n",
      "            break\n",
      "    while True:\n",
      "        month = int(raw_input('Enter month: '))\n",
      "        if not 0<month<13:\n",
      "            print 'Invalid Month Entered. Please try again'\n",
      "        else:\n",
      "            break\n",
      "    year = int(raw_input('Enter Year: '))\n",
      "    isLeap = checkLeap(year)\n",
      "    if month==2 and day>28+isLeap:\n",
      "        print 'Invalid Date Entered. Please try again'\n",
      "        \n",
      "    if month in [4,6,9,11] and day>30:\n",
      "        print 'Invalid Date Entered. Please try again'\n",
      "    print 'Entered Date is valid'\n",
      "        "
     ],
     "language": "python",
     "metadata": {},
     "outputs": [],
     "prompt_number": 13
    },
    {
     "cell_type": "code",
     "collapsed": false,
     "input": [
      "#DO NOT WRITE BEYOND THIS POINT\n",
      "1920%100"
     ],
     "language": "python",
     "metadata": {},
     "outputs": [
      {
       "metadata": {},
       "output_type": "pyout",
       "prompt_number": 10,
       "text": [
        "20"
       ]
      }
     ],
     "prompt_number": 10
    },
    {
     "cell_type": "code",
     "collapsed": false,
     "input": [
      "checkLeap(2000)"
     ],
     "language": "python",
     "metadata": {},
     "outputs": [
      {
       "metadata": {},
       "output_type": "pyout",
       "prompt_number": 5,
       "text": [
        "True"
       ]
      }
     ],
     "prompt_number": 5
    },
    {
     "cell_type": "code",
     "collapsed": false,
     "input": [
      "checkLeap(1900)"
     ],
     "language": "python",
     "metadata": {},
     "outputs": [
      {
       "metadata": {},
       "output_type": "pyout",
       "prompt_number": 6,
       "text": [
        "False"
       ]
      }
     ],
     "prompt_number": 6
    },
    {
     "cell_type": "code",
     "collapsed": false,
     "input": [
      "checkLeap(2012)"
     ],
     "language": "python",
     "metadata": {},
     "outputs": [
      {
       "metadata": {},
       "output_type": "pyout",
       "prompt_number": 7,
       "text": [
        "True"
       ]
      }
     ],
     "prompt_number": 7
    },
    {
     "cell_type": "code",
     "collapsed": false,
     "input": [
      "validateDate()"
     ],
     "language": "python",
     "metadata": {},
     "outputs": [
      {
       "name": "stdout",
       "output_type": "stream",
       "stream": "stdout",
       "text": [
        "Enter day: 29\n"
       ]
      },
      {
       "name": "stdout",
       "output_type": "stream",
       "stream": "stdout",
       "text": [
        "Enter month: 2\n"
       ]
      },
      {
       "name": "stdout",
       "output_type": "stream",
       "stream": "stdout",
       "text": [
        "Enter Year: 2012\n"
       ]
      },
      {
       "output_type": "stream",
       "stream": "stdout",
       "text": [
        "Entered Date is valid\n"
       ]
      }
     ],
     "prompt_number": 15
    },
    {
     "cell_type": "code",
     "collapsed": false,
     "input": [],
     "language": "python",
     "metadata": {},
     "outputs": []
    }
   ],
   "metadata": {}
  }
 ]
}