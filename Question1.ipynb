{
 "metadata": {
  "name": "",
  "signature": "sha256:625c6da0cdf4fbfb04608f31ff2886a75eb8d60ba3d1fc2bb476440463cce7da"
 },
 "nbformat": 3,
 "nbformat_minor": 0,
 "worksheets": [
  {
   "cells": [
    {
     "cell_type": "markdown",
     "metadata": {},
     "source": [
      "Define a class clock in python for advancing time. The description is as follow:\n",
      "    -hr(hour) = 0.0\n",
      "    -mint(minutes) = 0.0\n",
      "    -sec(seconds) = 0.0\n",
      "The following methods need to be described:\n",
      "    -set_time() :  It is a fuction to input the correct time from the user\n",
      "    -advance_time() : It is a function to input the time by which the original time is to be increased from the user and hence advances the time.\n",
      "    -show_time(): It is a function to print the advanced time."
     ]
    },
    {
     "cell_type": "code",
     "collapsed": false,
     "input": [
      "class clock(object):\n",
      "    '''Class to create a clock object with the following attributes:-\n",
      "            hr : Hours (float). Default value 0.0\n",
      "            mint : Minutes (float) Default value 0.0\n",
      "            sec : Seconds (float) Default value 0.0\n",
      "        The following methods are available:\n",
      "            set_time(): Prompts the user to input initial time\n",
      "            advance_time(hour, minute, second): Advances the time by the given number of seconds, minutes, or hours.\n",
      "            show_time(): Prints the advanced time'''\n",
      "    def __init__(self):\n",
      "        self.hr = 0.0\n",
      "        self.mint = 0.0\n",
      "        self.sec = 0.0\n",
      "    def set_time(self):\n",
      "        while True:\n",
      "            hour = float(raw_input('Enter hour: '))\n",
      "            if hour>12:\n",
      "                print 'Invalid entry. Hour must be less than 12'\n",
      "            else:\n",
      "                break\n",
      "        while True:\n",
      "            minute = float(raw_input('Enter minutes: '))\n",
      "            if minute>59:\n",
      "                print 'Invalid entry. Minutes must be less than 60'\n",
      "            else:\n",
      "                break\n",
      "        while True:\n",
      "            second = float(raw_input('Enter seconds: '))\n",
      "            if second>59:\n",
      "                print 'Invalid entry. Seconds must be less than 60'\n",
      "            else:\n",
      "                break\n",
      "        self.hr += hour\n",
      "        self.mint += minute\n",
      "        self.sec += second\n",
      "    \n",
      "    def advance_time(self,hour = 0,minute = 0,second = 0):\n",
      "        if self.hr + hour<12:\n",
      "            self.hr+=hour\n",
      "        else:\n",
      "            self.hr = (self.hr + hour)%12\n",
      "            \n",
      "        if self.mint + minute<60:\n",
      "            self.mint+=minute\n",
      "        else:\n",
      "            self.mint = (self.mint + minute)%60\n",
      "            self.hr+=self.mint/60\n",
      "            \n",
      "        if self.sec + second<60:\n",
      "            self.sec += second\n",
      "        else:\n",
      "            self.sec = (self.sec + second)%60\n",
      "            self.mint += self.sec/60\n",
      "            \n",
      "    def show_time(self):\n",
      "        print '%d:%d:%d'%(self.hr,self.mint,self.sec)"
     ],
     "language": "python",
     "metadata": {},
     "outputs": [],
     "prompt_number": 3
    }
   ],
   "metadata": {}
  }
 ]
}