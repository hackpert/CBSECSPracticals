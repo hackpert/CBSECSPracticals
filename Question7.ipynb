{
 "metadata": {
  "name": "",
  "signature": "sha256:6ccab0d337b3f05ccee25c4db8e48328372d8f0b56d574cfbd8e242621c820c4"
 },
 "nbformat": 3,
 "nbformat_minor": 0,
 "worksheets": [
  {
   "cells": [
    {
     "cell_type": "markdown",
     "metadata": {},
     "source": [
      "Write a class student that stores the information of a student and make sure that the admission no. of the student entered is not repeated."
     ]
    },
    {
     "cell_type": "code",
     "collapsed": false,
     "input": [
      "class student(object):\n",
      "    admno = []\n",
      "    def __init__(self):\n",
      "        self.name = raw_input('Enter name: ')\n",
      "        while True:\n",
      "            self.adm = raw_input('Enter admission no: ')\n",
      "            if self.adm not in student.admno:\n",
      "                student.admno.append(self.adm)\n",
      "                break\n",
      "            else:\n",
      "                print 'Admission number already exists. Please try again.'\n",
      "        self.rollno = int(raw_input('Enter roll number: '))\n",
      "        self.c = int(raw_input('Enter class: '))\n",
      "        self.sec = raw_input('Enter section: ')\n",
      "        self.grades = raw_input('Enter grades separated by space: ').split()\n",
      "    "
     ],
     "language": "python",
     "metadata": {},
     "outputs": [],
     "prompt_number": 6
    },
    {
     "cell_type": "code",
     "collapsed": false,
     "input": [],
     "language": "python",
     "metadata": {},
     "outputs": []
    }
   ],
   "metadata": {}
  }
 ]
}