{
 "metadata": {
  "name": "",
  "signature": "sha256:d8d72dcde35685e0fcce6b6511664154d217c38f37d63dfea7f4da87841ed59f"
 },
 "nbformat": 3,
 "nbformat_minor": 0,
 "worksheets": [
  {
   "cells": [
    {
     "cell_type": "markdown",
     "metadata": {},
     "source": [
      "#### Create the class SOCIETY with the following information:\n",
      "    -Society name\n",
      "    -House number\n",
      "    -No. of members\n",
      "    -Flat\n",
      "    -Income\n",
      "#### Methods supposed to be defined:\n",
      "    -__init__(): defining name- Surya Appartment, Flat \u2013 A type, House No.-20, No. of members-3, Income-Rs.25000.\n",
      "    -input_data(): reads data members from user and call allocate flat function.\n",
      "    -allocate_flat(): This will allocate flat according to income:\n",
      "        -If income>=25000, flat-A type\n",
      "        -If income between 20000-25000, flat-B type\n",
      "        -If income<20000, flat-C type\n",
      "    -show_data():  To display complete details of attributes of class. Test your class using SOCIETY class.\n"
     ]
    },
    {
     "cell_type": "code",
     "collapsed": false,
     "input": [
      "class SOCIETY(object):\n",
      "    lasthouse = 20\n",
      "    def __init__(self):\n",
      "        self.name = 'Surya Apartments'\n",
      "        self.houseno = 20\n",
      "        self.members = 3\n",
      "        self.flat = 'A'\n",
      "        self.income = 25000\n",
      "    def input_data(self):\n",
      "        self.name = raw_input('Enter Name: ')\n",
      "        self.members = int(raw_input('Enter number of members: '))\n",
      "        self.income = int(raw_input('Enter monthly income: '))\n",
      "        self.houseno = lasthouse+1\n",
      "        lasthouse = self.houseno\n",
      "        self.allocate_flat()\n",
      "    def allocate_flat(self):\n",
      "        if self.income>=25000:\n",
      "            self.flat = 'A'\n",
      "        elif 20000<=self.income<25000:\n",
      "            self.flat = 'B'\n",
      "        elif self.income<20000:\n",
      "            self.flat = 'C'\n",
      "    def show_data(self):\n",
      "        print 'Society Name: ' + self.name + '\\n' + 'House No: ' + str(self.houseno) + '\\n' + 'No. of members: ' + str(self.members) + '\\n' + 'Income: ' + str(self.income) + '\\n' + 'Flat Type: ' + self.flat"
     ],
     "language": "python",
     "metadata": {},
     "outputs": [],
     "prompt_number": 2
    },
    {
     "cell_type": "code",
     "collapsed": false,
     "input": [],
     "language": "python",
     "metadata": {},
     "outputs": []
    }
   ],
   "metadata": {}
  }
 ]
}