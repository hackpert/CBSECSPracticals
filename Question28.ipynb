{
 "metadata": {
  "name": "",
  "signature": "sha256:97dc6021ae25a2f2a3b457d85a84b8a0d46bcf9c983a84f421f5379a4c08c8be"
 },
 "nbformat": 3,
 "nbformat_minor": 0,
 "worksheets": [
  {
   "cells": [
    {
     "cell_type": "markdown",
     "metadata": {},
     "source": [
      "range() function in python does not include stop value. Write a generator function equivalent to range() function that includes the stop value also. This function will take three arguments: start, stop and step and will generate the desired list.\n"
     ]
    },
    {
     "cell_type": "code",
     "collapsed": false,
     "input": [
      "def stopRange(start = 0,stop,step = 1):\n",
      "    '''Generator function equivalent to range() function, but also includes the stop value.\n",
      "        Paramaters: start (Default = 0), stop, step (Default = 1)'''\n",
      "    i = start\n",
      "    while i<=stop:\n",
      "        yield i\n",
      "        i+=step\n",
      "s = stopRange()"
     ],
     "language": "python",
     "metadata": {},
     "outputs": [
      {
       "ename": "SyntaxError",
       "evalue": "non-default argument follows default argument (<ipython-input-12-b6d4da756c29>, line 1)",
       "output_type": "pyerr",
       "traceback": [
        "\u001b[0;36m  File \u001b[0;32m\"<ipython-input-12-b6d4da756c29>\"\u001b[0;36m, line \u001b[0;32m1\u001b[0m\n\u001b[0;31m    def stopRange(start = 0,stop,step = 1):\u001b[0m\n\u001b[0;31mSyntaxError\u001b[0m\u001b[0;31m:\u001b[0m non-default argument follows default argument\n"
       ]
      }
     ],
     "prompt_number": 12
    },
    {
     "cell_type": "code",
     "collapsed": false,
     "input": [],
     "language": "python",
     "metadata": {},
     "outputs": []
    }
   ],
   "metadata": {}
  }
 ]
}