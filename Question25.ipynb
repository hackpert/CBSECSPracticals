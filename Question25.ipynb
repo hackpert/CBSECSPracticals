{
 "metadata": {
  "name": "",
  "signature": "sha256:44eecd23c05ae713d765855d2f64dc08a57dcedf83fe8a2692042e4eb7d0a157"
 },
 "nbformat": 3,
 "nbformat_minor": 0,
 "worksheets": [
  {
   "cells": [
    {
     "cell_type": "markdown",
     "metadata": {},
     "source": [
      "Write a function called oops that explicitly raises an Index Error exception when called. Then write another function that calls oops inside a try/except statement to catch the error. What happens if you change oops to raise Key Error instead of Index Error?\n"
     ]
    },
    {
     "cell_type": "code",
     "collapsed": false,
     "input": [
      "def oops():\n",
      "    raise IndexError\n",
      "def catch():\n",
      "    try:\n",
      "        oops()\n",
      "    except IndexError:\n",
      "        print 'Caught Index Error'"
     ],
     "language": "python",
     "metadata": {},
     "outputs": [],
     "prompt_number": 1
    },
    {
     "cell_type": "code",
     "collapsed": false,
     "input": [],
     "language": "python",
     "metadata": {},
     "outputs": []
    }
   ],
   "metadata": {}
  }
 ]
}