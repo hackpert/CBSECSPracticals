{
 "metadata": {
  "name": "",
  "signature": "sha256:df1565f9ba1975f837db9bf86f6fae4a8c69b466eda13ea21a861d5e32141036"
 },
 "nbformat": 3,
 "nbformat_minor": 0,
 "worksheets": [
  {
   "cells": [
    {
     "cell_type": "markdown",
     "metadata": {},
     "source": [
      "Define a class student in python with the following description:\n",
      "Name, class, admission number, marks (in 5 subjects)\n",
      "Methods to be defined:\n",
      "    - A function get_marks() to input the marks in 5 subjects from the user.\n",
      "    - A function percent() to calculate the percentage of the student.\n",
      "    - A function show_data() to show the content of all the data members.\n"
     ]
    },
    {
     "cell_type": "code",
     "collapsed": false,
     "input": [
      "class student(object):\n",
      "    '''Class to define a student object with the following attributes:\n",
      "            name, class, admno, marks (for 5 subjects)\n",
      "        And the following methods:-\n",
      "            get_marks() : To input marks\n",
      "            percent() : To calculate and print percentage\n",
      "            show_data() : To print all information'''\n",
      "    def __init__(self,name,Class,):\n",
      "        self.name = name\n",
      "        self.Class = Class\n",
      "        self.admno = admno\n",
      "        self.marks = []\n",
      "    def get_marks(self):\n",
      "        for i in xrange(1,6):\n",
      "            self.marks.append(raw_input('Enter marks in %d subject'%i))\n",
      "    def percent(self):\n",
      "        print str(sum(self.marks)/5.0)+'%'\n",
      "    def show_data(self):\n",
      "        print 'Name: ' + self.name + '\\n' + 'Class: ' + str(self.Class) + '\\n' + 'Admission No: ' + str(self.admno)\n",
      "        for i in xrange(1,6):\n",
      "            print 'Marks in %d subject: '%i\n",
      "            \n",
      "        "
     ],
     "language": "python",
     "metadata": {},
     "outputs": [],
     "prompt_number": 4
    },
    {
     "cell_type": "code",
     "collapsed": false,
     "input": [],
     "language": "python",
     "metadata": {},
     "outputs": []
    }
   ],
   "metadata": {}
  }
 ]
}