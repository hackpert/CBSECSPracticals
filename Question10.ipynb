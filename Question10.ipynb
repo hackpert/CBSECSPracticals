{
 "metadata": {
  "name": "",
  "signature": "sha256:31c2da33e0d11094563d5630b6fa2237f8ba69b2c353a6de05cd0c829f02da97"
 },
 "nbformat": 3,
 "nbformat_minor": 0,
 "worksheets": [
  {
   "cells": [
    {
     "cell_type": "markdown",
     "metadata": {},
     "source": [
      "Write a program to accept a file name from the user and display all lines from the file which contain python comment character \u2018#\u2019 "
     ]
    },
    {
     "cell_type": "code",
     "collapsed": false,
     "input": [
      "def printFile():\n",
      "    filename = raw_input('Enter file path: ')\n",
      "    f = open(filename,'r')\n",
      "    lines = f.read()\n",
      "    for i in lines:\n",
      "        if '#' in i:\n",
      "            print i\n",
      "    print 'Would you like to try with another file? Y/N'\n",
      "    choice2 = raw_input()\n",
      "    if choice2.lower() == 'y':\n",
      "        printFile()\n",
      "    else:\n",
      "        print 'Thank You'\n",
      "        exit()\n",
      "\n",
      "def main():\n",
      "    print 'Program to display all lines from a file which contains the character \\'#\\''\n",
      "    print '1. Enter filename\\n2.Quit'\n",
      "    choice = int(raw_input())\n",
      "    if choice == 1:\n",
      "        printFile()\n",
      "    elif chice == 2:\n",
      "        exit()"
     ],
     "language": "python",
     "metadata": {},
     "outputs": []
    }
   ],
   "metadata": {}
  }
 ]
}