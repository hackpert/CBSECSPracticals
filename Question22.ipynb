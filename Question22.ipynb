{
 "metadata": {
  "name": "",
  "signature": "sha256:11b4f9f5beeef3d30c48e97e60d98cdae2a08fb18fa21c739952e187c9c7d260"
 },
 "nbformat": 3,
 "nbformat_minor": 0,
 "worksheets": [
  {
   "cells": [
    {
     "cell_type": "markdown",
     "metadata": {},
     "source": [
      "Write a python program to implement parenthesis mismatch using stack"
     ]
    },
    {
     "cell_type": "code",
     "collapsed": false,
     "input": [
      "class stack(object):\n",
      "    '''Class to implement stack data structure with the following methods:\n",
      "        -push(element)\n",
      "        -pop()'''\n",
      "    def __init__(self):\n",
      "        self.s = []\n",
      "    def push(self,elem):\n",
      "        self.s.append(elem)\n",
      "    def pop(self):\n",
      "        p =  self.s[-1]\n",
      "        del self.s[-1]\n",
      "        return p\n",
      "    def empty(self):\n",
      "        if len(self.s)==0:\n",
      "            return True\n",
      "        else:\n",
      "            return False\n",
      "def parenMismatch(expression):\n",
      "    '''Function to return True in case of parenthesis mismatch in an expression and False otherwise'''\n",
      "    s = stack()\n",
      "    for i in xrange(len(expression)):\n",
      "        if expression[i]=='(':\n",
      "            s.push('(')\n",
      "        elif expression[i]==')':\n",
      "            s.pop()\n",
      "    if s.empty():\n",
      "        return False\n",
      "    else:\n",
      "        return True"
     ],
     "language": "python",
     "metadata": {},
     "outputs": []
    }
   ],
   "metadata": {}
  }
 ]
}