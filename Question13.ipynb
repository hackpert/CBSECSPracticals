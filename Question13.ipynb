{
 "metadata": {
  "name": "",
  "signature": "sha256:7518f4495530f23d23127da608fa25c19ead3c9add4099d42d8d803a53d69dd9"
 },
 "nbformat": 3,
 "nbformat_minor": 0,
 "worksheets": [
  {
   "cells": [
    {
     "cell_type": "markdown",
     "metadata": {},
     "source": [
      "####Write a program to delete the content provided by user from the binary file. The file is very large and can\u2019t fit in computer\u2019s memory.\n"
     ]
    },
    {
     "cell_type": "code",
     "collapsed": false,
     "input": [
      "import pickle\n",
      "import os\n",
      "def deleteContent(filename):\n",
      "    '''Function to delete content provided by user from a binary (pickle) file which is too large to fit in memory'''\n",
      "    #Assuming multiple dumps\n",
      "    choice = raw_input('Do you want to enter content to delete Y/N')\n",
      "    if choice.lower()=='y':\n",
      "        content = input('Enter content to delete: ')\n",
      "        f = open(filename,'rb')\n",
      "        t = open('temp.b','wb')\n",
      "        while True:\n",
      "            try:\n",
      "                a = pickle.load(f)\n",
      "                if a != content:\n",
      "                    pickle.dump(a,t)\n",
      "            except EOFError:\n",
      "                print 'Done'\n",
      "        f.close()\n",
      "        t.close()\n",
      "        os.remove(filename)\n",
      "        os.rename('temp.b',filename)\n",
      "    elif choice.lower() == 'n':\n",
      "        f = open(filename,'rb')\n",
      "        t = open('temp.b','wb')\n",
      "        while True:\n",
      "            try:\n",
      "                a = pickle.load(f)\n",
      "                delete = raw_input('Do you want to delete: ' + str(a) + 'Y/N')\n",
      "                if delete.lower()=='n':\n",
      "                    pickle.dump(a,t)\n",
      "                elif delete.lower()=='y':\n",
      "                    pass\n",
      "            except EOFError:\n",
      "                print 'Done'\n",
      "        f.close()\n",
      "        t.close()\n",
      "        os.remove(filename)\n",
      "        os.rename('temp.b',filename)"
     ],
     "language": "python",
     "metadata": {},
     "outputs": [],
     "prompt_number": 2
    },
    {
     "cell_type": "code",
     "collapsed": false,
     "input": [],
     "language": "python",
     "metadata": {},
     "outputs": []
    }
   ],
   "metadata": {}
  }
 ]
}