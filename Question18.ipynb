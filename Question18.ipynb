{
 "metadata": {
  "name": "",
  "signature": "sha256:c5bbadf92740285456cd71ada4f5b184eb996a617e3a2d323027f06f391f8e10"
 },
 "nbformat": 3,
 "nbformat_minor": 0,
 "worksheets": [
  {
   "cells": [
    {
     "cell_type": "markdown",
     "metadata": {},
     "source": [
      "####Write a class list for implementing the following:\n",
      "    Insertion in a sorted list\n",
      "    Deletion of an element of list\n",
      "    Linear search\n",
      "    Binary search "
     ]
    },
    {
     "cell_type": "code",
     "collapsed": false,
     "input": [
      "class listOpers(object):\n",
      "    '''Class to implement the following static list operations:\n",
      "        Insertion in a sorted list\n",
      "        Deletion of an element of list\n",
      "        Linear search\n",
      "        Binary search '''\n",
      "    def __init__(self,size):\n",
      "        self.l = [-1 for i in xrange(size)]\n",
      "    def insertElem(self,elem):\n",
      "        index = len(self.l)-1\n",
      "        for i in xrange(len(self.l)-1):\n",
      "            if self.l[i]>elem:\n",
      "                index = i\n",
      "        for i in xrange(index,len(self.l)-1):\n",
      "            self.l[i+1] = self.l[i]\n",
      "        self.l[index] = elem\n",
      "    def deleteElem(self,elem):\n",
      "        index = self.linearSearch(elem)\n",
      "        for i in xrange(index,len(self.l)-1):\n",
      "            self.l[i] = self.l[i+1]\n",
      "    def binarySearch(self,l,elem):\n",
      "        low = 0\n",
      "        high = len(l)-1\n",
      "        while low<high:\n",
      "            mid = (low + high)/2\n",
      "            if l[mid] == elem:\n",
      "                return mid\n",
      "            elif l[mid]>elem:\n",
      "                high = mid-1\n",
      "            elif l[mid]<elem:\n",
      "                low = mid+1\n",
      "        else:\n",
      "            return 'Not found'\n",
      "    def linearSearch(self,elem):\n",
      "        for i in xrange(len(self.l)):\n",
      "            if self.l[i]==elem:\n",
      "                return i"
     ],
     "language": "python",
     "metadata": {},
     "outputs": []
    }
   ],
   "metadata": {}
  }
 ]
}