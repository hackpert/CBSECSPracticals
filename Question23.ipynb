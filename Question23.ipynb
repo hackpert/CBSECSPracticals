{
 "metadata": {
  "name": "",
  "signature": "sha256:506537a0e733838fafdd5730da7b7f29b40c6fa1412b07582892f98308b1bead"
 },
 "nbformat": 3,
 "nbformat_minor": 0,
 "worksheets": [
  {
   "cells": [
    {
     "cell_type": "markdown",
     "metadata": {},
     "source": [
      "Write a function to generate cubes of numbers over time"
     ]
    },
    {
     "cell_type": "code",
     "collapsed": false,
     "input": [
      "def cubeGen(n):\n",
      "    '''Generator function to yield cubes of numbers from 0 to n'''\n",
      "    for i in xrange(n):\n",
      "        yield i**3"
     ],
     "language": "python",
     "metadata": {},
     "outputs": [],
     "prompt_number": 5
    }
   ],
   "metadata": {}
  }
 ]
}